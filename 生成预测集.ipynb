{
 "cells": [
  {
   "cell_type": "code",
   "execution_count": 2,
   "id": "08609c9e",
   "metadata": {},
   "outputs": [],
   "source": [
    "import csv\n",
    "\n",
    "# Define the data\n",
    "column1 = ['[Cl-].[Cs+]', '[Br-].[Cs+]','[I-].[Cs+]','[F-].[Cs+]','CN.F','CN.Cl','CN.Br','C[NH3+].[I-]','C(=N)N.F','C(=N)N.Cl','C(=N)N.Br','C(=N)N.[I-]']\n",
    "column2 = ['[F-].[F-].[Sn+2]','[Cl-].[Cl-].[Sn+2]','[Br-].[Br-].[Sn+2]','[Sn+2].[I-].[I-]','[F-].[F-].[Pb+2]','[Cl-].[Cl-].[Pb+2]','[Br-].[Br-].[Pb+2]','[I-].[I-].[Pb+2]']\n",
    "column3 = ['[Cl-].[Cs+]', '[Br-].[Cs+]','[I-].[Cs+]','[F-].[Cs+]','CN.F','CN.Cl','CN.Br','C[NH3+].[I-]','C(=N)N.F','C(=N)N.Cl','C(=N)N.Br','C(=N)N.[I-]']\n",
    "column4 = ['[F-].[F-].[Sn+2]','[Cl-].[Cl-].[Sn+2]','[Br-].[Br-].[Sn+2]','[Sn+2].[I-].[I-]','[F-].[F-].[Pb+2]','[Cl-].[Cl-].[Pb+2]','[Br-].[Br-].[Pb+2]','[I-].[I-].[Pb+2]']\n",
    "column5 = ['[NH4+].[Cl-]','[Br-].[Br-].[Sn+2]','[Sn+2].[I-].[I-]','[Cl-].[Ag+]','[Br-].[Ag+]','[Cl-].[K+]','[I-].[I-].[Pb+2]','[Br-].[Br-].[Pb+2]','[Li+].[Cl-]','[Cl-].[Cl-].[Pb+2]','[Na+].[Cl-]','[F-].[F-].[F-].[Al+3]','[Cl-].[Cl-].[Cu+2]','[Mg+2].[Cl-].[Cl-]','[Cl-].[Cl-].[Cl-].[Fe+3]','CCCC[N+](CCCC)(CCCC)CCCC.[I-]','C[NH3+].[I-]','C(=N)N.[I-]','C(=N)N.Cl','CN.Cl','CN.Br','C1=CC(=CC(=C1)Br)/C=C/C(=O)O ']\n",
    "# Cross-multiply the columns to generate the data for the CSV file\n",
    "data = [(c1, c2, c3, c4, c5) for c1 in column1 for c2 in column2 for c3 in column3 for c4 in column4 for c5 in column5]\n",
    "\n",
    "# Create the CSV file and write the data to it\n",
    "with open('outputtry5.csv', 'w', newline='') as csvfile:\n",
    "    writer = csv.writer(csvfile)\n",
    "    writer.writerows(data)"
   ]
  },
  {
   "cell_type": "code",
   "execution_count": null,
   "id": "19b3a9c8",
   "metadata": {},
   "outputs": [],
   "source": []
  }
 ],
 "metadata": {
  "kernelspec": {
   "display_name": "py39",
   "language": "python",
   "name": "py39"
  },
  "language_info": {
   "codemirror_mode": {
    "name": "ipython",
    "version": 3
   },
   "file_extension": ".py",
   "mimetype": "text/x-python",
   "name": "python",
   "nbconvert_exporter": "python",
   "pygments_lexer": "ipython3",
   "version": "3.10.5"
  }
 },
 "nbformat": 4,
 "nbformat_minor": 5
}
